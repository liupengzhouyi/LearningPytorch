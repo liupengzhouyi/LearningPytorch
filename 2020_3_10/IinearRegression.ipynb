{
  "nbformat": 4,
  "nbformat_minor": 0,
  "metadata": {
    "colab": {
      "name": "IinearRegression.ipynb",
      "provenance": [],
      "collapsed_sections": [],
      "toc_visible": true,
      "authorship_tag": "ABX9TyMaKzbIwoaqUb4rbxJJ1E1z",
      "include_colab_link": true
    },
    "kernelspec": {
      "name": "python3",
      "display_name": "Python 3"
    }
  },
  "cells": [
    {
      "cell_type": "markdown",
      "metadata": {
        "id": "view-in-github",
        "colab_type": "text"
      },
      "source": [
        "<a href=\"https://colab.research.google.com/github/liupengzhouyi/LearningPytorch/blob/master/2020_3_10/IinearRegression.ipynb\" target=\"_parent\"><img src=\"https://colab.research.google.com/assets/colab-badge.svg\" alt=\"Open In Colab\"/></a>"
      ]
    },
    {
      "cell_type": "markdown",
      "metadata": {
        "id": "Wo_IfvaNcxfx",
        "colab_type": "text"
      },
      "source": [
        "# linear regression "
      ]
    },
    {
      "cell_type": "markdown",
      "metadata": {
        "id": "wDy1kWkVc0XG",
        "colab_type": "text"
      },
      "source": [
        "## import backage"
      ]
    },
    {
      "cell_type": "code",
      "metadata": {
        "id": "rDD5CDbwc4FS",
        "colab_type": "code",
        "colab": {}
      },
      "source": [
        "import torch\n",
        "import torch.nn as nn\n",
        "import numpy as np\n",
        "import matplotlib.pyplot as plt"
      ],
      "execution_count": 0,
      "outputs": []
    },
    {
      "cell_type": "markdown",
      "metadata": {
        "id": "kH6seftpc7rX",
        "colab_type": "text"
      },
      "source": [
        "## setting super parameters"
      ]
    },
    {
      "cell_type": "code",
      "metadata": {
        "id": "yg8z9_zDdBLr",
        "colab_type": "code",
        "colab": {}
      },
      "source": [
        "input_size = 1\n",
        "output_size = 1\n",
        "num_epochs = 60\n",
        "learning_rate = 0.001"
      ],
      "execution_count": 0,
      "outputs": []
    },
    {
      "cell_type": "markdown",
      "metadata": {
        "id": "F8mGZyrddHdq",
        "colab_type": "text"
      },
      "source": [
        "## setting data set"
      ]
    },
    {
      "cell_type": "code",
      "metadata": {
        "id": "h6u8A4h5dLOv",
        "colab_type": "code",
        "colab": {}
      },
      "source": [
        "x_train = np.array([[3.3], [4.4], [5.5], [6.71], [6.93], [4.168], \n",
        "                    [9.779], [6.182], [7.59], [2.167], [7.042], \n",
        "                    [10.791], [5.313], [7.997], [3.1]], dtype=np.float32)\n",
        "\n",
        "y_train = np.array([[1.7], [2.76], [2.09], [3.19], [1.694], [1.573], \n",
        "                    [3.366], [2.596], [2.53], [1.221], [2.827], \n",
        "                    [3.465], [1.65], [2.904], [1.3]], dtype=np.float32)"
      ],
      "execution_count": 0,
      "outputs": []
    },
    {
      "cell_type": "markdown",
      "metadata": {
        "id": "08IsQ5mbdPjA",
        "colab_type": "text"
      },
      "source": [
        "## create model"
      ]
    },
    {
      "cell_type": "code",
      "metadata": {
        "id": "9dpe7isYdRK6",
        "colab_type": "code",
        "colab": {}
      },
      "source": [
        "model = nn.Linear(input_size, output_size)"
      ],
      "execution_count": 0,
      "outputs": []
    },
    {
      "cell_type": "markdown",
      "metadata": {
        "id": "1wVBULx0dUYo",
        "colab_type": "text"
      },
      "source": [
        "## loss function"
      ]
    },
    {
      "cell_type": "code",
      "metadata": {
        "id": "DyaBFVipdWp5",
        "colab_type": "code",
        "colab": {}
      },
      "source": [
        "criterion = nn.MSELoss()"
      ],
      "execution_count": 0,
      "outputs": []
    },
    {
      "cell_type": "markdown",
      "metadata": {
        "id": "xHMlIRi5dYAA",
        "colab_type": "text"
      },
      "source": [
        "## create optimizer"
      ]
    },
    {
      "cell_type": "code",
      "metadata": {
        "id": "5SoiQ2cwda_q",
        "colab_type": "code",
        "colab": {}
      },
      "source": [
        "optimizer = torch.optim.SGD(model.parameters(), lr=learning_rate)  "
      ],
      "execution_count": 0,
      "outputs": []
    },
    {
      "cell_type": "markdown",
      "metadata": {
        "id": "H7utHukqdeb0",
        "colab_type": "text"
      },
      "source": [
        "## Train the model"
      ]
    },
    {
      "cell_type": "code",
      "metadata": {
        "id": "VUY6HOU5d3vz",
        "colab_type": "code",
        "colab": {
          "base_uri": "https://localhost:8080/",
          "height": 221
        },
        "outputId": "645bf76e-421f-44ee-d907-5eafb12216fb"
      },
      "source": [
        "for epoch in range(num_epochs):\n",
        "    # Convert numpy arrays to torch tensors\n",
        "    inputs = torch.from_numpy(x_train)\n",
        "    targets = torch.from_numpy(y_train)\n",
        "\n",
        "    # Forward pass\n",
        "    outputs = model(inputs)\n",
        "    loss = criterion(outputs, targets)\n",
        "    \n",
        "    # Backward and optimize\n",
        "    optimizer.zero_grad()\n",
        "    # 反向传播求梯度\n",
        "    loss.backward()\n",
        "    # 更新所有参数\n",
        "    optimizer.step()\n",
        "    \n",
        "    if (epoch+1) % 5 == 0:\n",
        "        print('Epoch [{}/{}], Loss: {:.4f}'.format(epoch+1, num_epochs, loss.item()))"
      ],
      "execution_count": 23,
      "outputs": [
        {
          "output_type": "stream",
          "text": [
            "Epoch [5/60], Loss: 46.7366\n",
            "Epoch [10/60], Loss: 19.2120\n",
            "Epoch [15/60], Loss: 8.0609\n",
            "Epoch [20/60], Loss: 3.5429\n",
            "Epoch [25/60], Loss: 1.7122\n",
            "Epoch [30/60], Loss: 0.9701\n",
            "Epoch [35/60], Loss: 0.6690\n",
            "Epoch [40/60], Loss: 0.5465\n",
            "Epoch [45/60], Loss: 0.4965\n",
            "Epoch [50/60], Loss: 0.4758\n",
            "Epoch [55/60], Loss: 0.4669\n",
            "Epoch [60/60], Loss: 0.4629\n"
          ],
          "name": "stdout"
        }
      ]
    },
    {
      "cell_type": "markdown",
      "metadata": {
        "id": "rZRoSlX1d8Ps",
        "colab_type": "text"
      },
      "source": [
        "## Plot the graph"
      ]
    },
    {
      "cell_type": "code",
      "metadata": {
        "id": "pmJLj4ngGtXa",
        "colab_type": "code",
        "outputId": "7bc36063-3642-4c08-dbce-86198328ce1f",
        "colab": {
          "base_uri": "https://localhost:8080/",
          "height": 269
        }
      },
      "source": [
        "predicted = model(torch.from_numpy(x_train)).detach().numpy()\n",
        "plt.plot(x_train, y_train, 'ro', label='Original data')\n",
        "plt.plot(x_train, predicted, label='Fitted line')\n",
        "plt.legend()\n",
        "plt.show()"
      ],
      "execution_count": 24,
      "outputs": [
        {
          "output_type": "display_data",
          "data": {
            "image/png": "[encoded data removed]",
            "text/plain": [
              "<Figure size 432x288 with 1 Axes>"
            ]
          },
          "metadata": {
            "tags": []
          }
        }
      ]
    },
    {
      "cell_type": "markdown",
      "metadata": {
        "id": "FtYAwqRUd_21",
        "colab_type": "text"
      },
      "source": [
        "## Save the model checkpoint"
      ]
    },
    {
      "cell_type": "code",
      "metadata": {
        "id": "TDD3FG24eA1w",
        "colab_type": "code",
        "colab": {}
      },
      "source": [
        "torch.save(model.state_dict(), 'model.ckpt')"
      ],
      "execution_count": 0,
      "outputs": []
    },
    {
      "cell_type": "markdown",
      "metadata": {
        "id": "kN2u6wtrdN_t",
        "colab_type": "text"
      },
      "source": [
        "over!"
      ]
    }
  ]
}