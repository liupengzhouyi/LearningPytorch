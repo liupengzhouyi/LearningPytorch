{
 "cells": [
  {
   "cell_type": "markdown",
   "metadata": {
    "collapsed": true,
    "pycharm": {
     "name": "#%% md\n"
    }
   },
   "source": [
    "# 神经网络"
   ]
  },
  {
   "cell_type": "markdown",
   "metadata": {},
   "source": [
    "## 构建神经网络"
   ]
  },
  {
   "cell_type": "code",
   "execution_count": 1,
   "metadata": {
    "pycharm": {
     "is_executing": false,
     "name": "#%%\n"
    }
   },
   "outputs": [],
   "source": [
    "import torch\n",
    "\n",
    "class Net(torch.nn.Module):\n",
    "    \n",
    "    def __init__(self):\n",
    "        super(Net, self).__init__()\n",
    "        self.conv1 = torch.nn.Conv2d(1, 6, 3)\n",
    "        self.conv2 = torch.nn.Conv2d(6, 16, 3)\n",
    "        self.fc1 = torch.nn.Linear(16*6*6, 120)\n",
    "        self.fc2 = torch.nn.Linear(120, 84)\n",
    "        self.fc3 = torch.nn.Linear(84, 10)\n",
    "    \n",
    "    def forward(self, input):\n",
    "        input = torch.nn.functional.max_pool2d(\n",
    "            torch.nn.functional.relu(self.conv1(input)), \n",
    "            (2, 2)\n",
    "        )\n",
    "        input = torch.nn.functional.max_pool2d(\n",
    "            torch.nn.functional.relu(self.conv2(input)),\n",
    "            2\n",
    "        )\n",
    "        input = input.view(-1, self.num_flat_features(input))\n",
    "        input = torch.nn.functional.relu(self.fc1(input))\n",
    "        input = torch.nn.functional.relu(self.fc2(input))\n",
    "        output = self.fc3(input)\n",
    "        return output\n",
    "\n",
    "    def num_flat_features(self, input):\n",
    "        size = input.size()[1:]\n",
    "        num = 1\n",
    "        for s in size:\n",
    "            num = num * s\n",
    "        return num"
   ]
  },
  {
   "cell_type": "markdown",
   "metadata": {},
   "source": [
    "## 实例话网络"
   ]
  },
  {
   "cell_type": "code",
   "execution_count": 2,
   "metadata": {
    "pycharm": {
     "is_executing": false,
     "name": "#%%\n"
    }
   },
   "outputs": [
    {
     "name": "stdout",
     "output_type": "stream",
     "text": [
      "Net(\n",
      "  (conv1): Conv2d(1, 6, kernel_size=(3, 3), stride=(1, 1))\n",
      "  (conv2): Conv2d(6, 16, kernel_size=(3, 3), stride=(1, 1))\n",
      "  (fc1): Linear(in_features=576, out_features=120, bias=True)\n",
      "  (fc2): Linear(in_features=120, out_features=84, bias=True)\n",
      "  (fc3): Linear(in_features=84, out_features=10, bias=True)\n",
      ")\n"
     ]
    }
   ],
   "source": [
    "net = Net()\n",
    "print(net)"
   ]
  },
  {
   "cell_type": "markdown",
   "metadata": {},
   "source": [
    "## 查看参数"
   ]
  },
  {
   "cell_type": "code",
   "execution_count": 4,
   "metadata": {
    "pycharm": {
     "is_executing": false,
     "name": "#%%\n"
    }
   },
   "outputs": [
    {
     "name": "stdout",
     "output_type": "stream",
     "text": [
      "torch.Size([6, 1, 3, 3])\n"
     ]
    }
   ],
   "source": [
    "params = list(net.parameters())\n",
    "# print(params)\n",
    "print(params[0].size())"
   ]
  },
  {
   "cell_type": "markdown",
   "metadata": {},
   "source": [
    "## 初始化随机输入"
   ]
  },
  {
   "cell_type": "code",
   "execution_count": 9,
   "metadata": {
    "pycharm": {
     "is_executing": false,
     "name": "#%%\n"
    }
   },
   "outputs": [
    {
     "name": "stdout",
     "output_type": "stream",
     "text": [
      "tensor([[[[ 1.4556,  0.7649,  0.0063,  ...,  2.0683,  1.2691, -0.4167],\n",
      "          [-1.9184,  0.6124, -1.4503,  ..., -0.5787, -0.9259, -0.7016],\n",
      "          [ 0.8113, -0.1982,  0.6460,  ...,  0.5894,  0.0507,  0.6753],\n",
      "          ...,\n",
      "          [-0.7751, -0.1513,  1.1919,  ...,  1.2714, -1.3903,  0.0237],\n",
      "          [ 0.7113,  2.2669, -2.0401,  ...,  0.2541, -0.1589,  0.5107],\n",
      "          [ 1.6336, -1.2237,  0.2752,  ...,  1.6409,  0.1877, -0.5024]]]])\n",
      "tensor([[ 0.0890, -0.0096,  0.0514,  0.0966,  0.0061,  0.0740,  0.0617,  0.1087,\n",
      "         -0.0801,  0.0313]], grad_fn=<AddmmBackward>)\n"
     ]
    }
   ],
   "source": [
    "input = torch.randn(1, 1, 32, 32)\n",
    "print(input)\n",
    "out = net(input)\n",
    "print(out)"
   ]
  },
  {
   "cell_type": "markdown",
   "metadata": {},
   "source": [
    "### 用随机梯度将所有的参数和反向传播的梯度缓冲区归零"
   ]
  },
  {
   "cell_type": "code",
   "execution_count": 10,
   "metadata": {
    "pycharm": {
     "is_executing": false,
     "name": "#%% \n"
    }
   },
   "outputs": [],
   "source": [
    "net.zero_grad()\n",
    "out.backward(torch.randn(1, 10))"
   ]
  },
  {
   "cell_type": "markdown",
   "metadata": {},
   "source": [
    "## 损失函数"
   ]
  },
  {
   "cell_type": "code",
   "execution_count": 14,
   "metadata": {
    "pycharm": {
     "is_executing": false,
     "name": "#%%\n"
    }
   },
   "outputs": [
    {
     "name": "stdout",
     "output_type": "stream",
     "text": [
      "tensor([ 1.7268, -1.0941, -0.5264,  0.0278, -0.5645,  1.2786,  0.2433, -0.3703,\n",
      "         0.6218,  0.4939])\n",
      "tensor([[ 1.7268, -1.0941, -0.5264,  0.0278, -0.5645,  1.2786,  0.2433, -0.3703,\n",
      "          0.6218,  0.4939]])\n",
      "tensor(0.6943, grad_fn=<MseLossBackward>)\n"
     ]
    }
   ],
   "source": [
    "output = net(input)\n",
    "target = torch.randn(10)\n",
    "print(target)\n",
    "target = target.view(1, -1)\n",
    "print(target)\n",
    "criterion = torch.nn.MSELoss()\n",
    "loss = criterion(output, target)\n",
    "print(loss)"
   ]
  },
  {
   "cell_type": "markdown",
   "metadata": {},
   "source": [
    "## 向后走几步"
   ]
  },
  {
   "cell_type": "code",
   "execution_count": 19,
   "metadata": {
    "pycharm": {
     "is_executing": false,
     "name": "#%%\n"
    }
   },
   "outputs": [
    {
     "name": "stdout",
     "output_type": "stream",
     "text": [
      "<MseLossBackward object at 0x12ac1dad0>\n",
      "<AddmmBackward object at 0x129f1f390>\n",
      "<AccumulateGrad object at 0x12aeb7fd0>\n"
     ]
    }
   ],
   "source": [
    "print(loss.grad_fn)\n",
    "print(loss.grad_fn.next_functions[0][0])\n",
    "print(loss.grad_fn.next_functions[0][0].next_functions[0][0])"
   ]
  },
  {
   "cell_type": "markdown",
   "metadata": {},
   "source": [
    "## 反向传播"
   ]
  },
  {
   "cell_type": "code",
   "execution_count": 20,
   "metadata": {
    "pycharm": {
     "is_executing": false,
     "name": "#%%\n"
    }
   },
   "outputs": [
    {
     "name": "stdout",
     "output_type": "stream",
     "text": [
      "第一个卷积层反向传播前\n",
      "tensor([0., 0., 0., 0., 0., 0.])\n",
      "第一个卷积层反向传播后\n",
      "tensor([-0.0047,  0.0041,  0.0003,  0.0020,  0.0240, -0.0145])\n"
     ]
    }
   ],
   "source": [
    "# 将所有的参数归零\n",
    "net.zero_grad()\n",
    "print('第一个卷积层反向传播前')\n",
    "print(net.conv1.bias.grad)\n",
    "# 反向传播\n",
    "loss.backward()\n",
    "print('第一个卷积层反向传播后')\n",
    "print(net.conv1.bias.grad)"
   ]
  },
  {
   "cell_type": "markdown",
   "metadata": {},
   "source": [
    "## 更新权重-[update weight]\n",
    "\n",
    "> weight = weight - learning_rate * gradient\n",
    "\n",
    "### 原理\n",
    "\n",
    "    learning_rate = 0.01\n",
    "    for p in net.parameters():\n",
    "        p.data.sub_(p.grad.data * learning_rate)\n"
   ]
  },
  {
   "cell_type": "code",
   "execution_count": 21,
   "metadata": {
    "pycharm": {
     "name": "#%%\n",
     "is_executing": false
    }
   },
   "outputs": [],
   "source": [
    "optimizer = torch.optim.SGD(\n",
    "    net.parameters(),\n",
    "    lr=0.01\n",
    ")\n",
    "optimizer.zero_grad()\n",
    "output = net(input)\n",
    "loss = criterion(output, target)\n",
    "loss.backward()\n",
    "optimizer.step()"
   ]
  }
 ],
 "metadata": {
  "kernelspec": {
   "display_name": "Python 3",
   "language": "python",
   "name": "python3"
  },
  "language_info": {
   "codemirror_mode": {
    "name": "ipython",
    "version": 3
   },
   "file_extension": ".py",
   "mimetype": "text/x-python",
   "name": "python",
   "nbconvert_exporter": "python",
   "pygments_lexer": "ipython3",
   "version": "3.7.2"
  },
  "pycharm": {
   "stem_cell": {
    "cell_type": "raw",
    "source": [],
    "metadata": {
     "collapsed": false
    }
   }
  }
 },
 "nbformat": 4,
 "nbformat_minor": 1
}