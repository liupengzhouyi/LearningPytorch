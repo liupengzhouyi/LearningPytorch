{
  "nbformat": 4,
  "nbformat_minor": 0,
  "metadata": {
    "colab": {
      "name": " ConvolutionNetwork.ipynb",
      "provenance": [],
      "collapsed_sections": [],
      "toc_visible": true,
      "authorship_tag": "ABX9TyMvBAbvFJBOBwP/lqTdkxfR",
      "include_colab_link": true
    },
    "kernelspec": {
      "name": "python3",
      "display_name": "Python 3"
    },
    "accelerator": "GPU"
  },
  "cells": [
    {
      "cell_type": "markdown",
      "metadata": {
        "id": "view-in-github",
        "colab_type": "text"
      },
      "source": [
        "<a href=\"https://colab.research.google.com/github/liupengzhouyi/LearningPytorch/blob/master/20200310/ConvolutionNetwork.ipynb\" target=\"_parent\"><img src=\"https://colab.research.google.com/assets/colab-badge.svg\" alt=\"Open In Colab\"/></a>"
      ]
    },
    {
      "cell_type": "markdown",
      "metadata": {
        "id": "f2ha0uMp9bzu",
        "colab_type": "text"
      },
      "source": [
        "# Convolution Network"
      ]
    },
    {
      "cell_type": "markdown",
      "metadata": {
        "id": "boi9pmC_9iJa",
        "colab_type": "text"
      },
      "source": [
        "## import package"
      ]
    },
    {
      "cell_type": "code",
      "metadata": {
        "id": "UGdO7Asx9kRk",
        "colab_type": "code",
        "colab": {}
      },
      "source": [
        "import torch \n",
        "import torch.nn as nn\n",
        "import torchvision\n",
        "import torchvision.transforms as transforms"
      ],
      "execution_count": 0,
      "outputs": []
    },
    {
      "cell_type": "markdown",
      "metadata": {
        "id": "E0OApFrC9lfL",
        "colab_type": "text"
      },
      "source": [
        "## setting device"
      ]
    },
    {
      "cell_type": "code",
      "metadata": {
        "id": "r7E7dm8O9pea",
        "colab_type": "code",
        "colab": {}
      },
      "source": [
        "# Device configuration\n",
        "device = torch.device('cuda:0' if torch.cuda.is_available() else 'cpu')"
      ],
      "execution_count": 0,
      "outputs": []
    },
    {
      "cell_type": "markdown",
      "metadata": {
        "id": "HaYRsci09r2V",
        "colab_type": "text"
      },
      "source": [
        "## setting super parameters"
      ]
    },
    {
      "cell_type": "code",
      "metadata": {
        "id": "903IbeCG9wN6",
        "colab_type": "code",
        "colab": {}
      },
      "source": [
        "# Hyper parameters\n",
        "num_epochs = 3\n",
        "num_classes = 10\n",
        "batch_size = 100\n",
        "learning_rate = 0.001"
      ],
      "execution_count": 0,
      "outputs": []
    },
    {
      "cell_type": "markdown",
      "metadata": {
        "id": "z-_DigUJ9x39",
        "colab_type": "text"
      },
      "source": [
        "## download data"
      ]
    },
    {
      "cell_type": "code",
      "metadata": {
        "id": "bjZGQ9SA9zqZ",
        "colab_type": "code",
        "colab": {}
      },
      "source": [
        "# MNIST dataset\n",
        "train_dataset = torchvision.datasets.MNIST(root='../../data/',\n",
        "                                           train=True, \n",
        "                                           transform=transforms.ToTensor(),\n",
        "                                           download=True)\n",
        "\n",
        "test_dataset = torchvision.datasets.MNIST(root='../../data/',\n",
        "                                          train=False, \n",
        "                                          transform=transforms.ToTensor())"
      ],
      "execution_count": 0,
      "outputs": []
    },
    {
      "cell_type": "markdown",
      "metadata": {
        "id": "WPaJ8z6w91gk",
        "colab_type": "text"
      },
      "source": [
        "## create data set"
      ]
    },
    {
      "cell_type": "code",
      "metadata": {
        "id": "vKK13XnO93iJ",
        "colab_type": "code",
        "colab": {}
      },
      "source": [
        "# Data loader\n",
        "train_loader = torch.utils.data.DataLoader(dataset=train_dataset,\n",
        "                                           batch_size=batch_size, \n",
        "                                           shuffle=True)\n",
        "\n",
        "test_loader = torch.utils.data.DataLoader(dataset=test_dataset,\n",
        "                                          batch_size=batch_size, \n",
        "                                          shuffle=False)"
      ],
      "execution_count": 0,
      "outputs": []
    },
    {
      "cell_type": "markdown",
      "metadata": {
        "id": "9kYHUMlg95Z6",
        "colab_type": "text"
      },
      "source": [
        "## Create Network\n",
        "\n",
        "- 1  * 28 * 28\n",
        "- 16 * 14 * 14\n",
        "- 32 * 7  * 7"
      ]
    },
    {
      "cell_type": "code",
      "metadata": {
        "id": "ID1vlh0P97_I",
        "colab_type": "code",
        "colab": {}
      },
      "source": [
        "# Convolutional neural network (two convolutional layers)\n",
        "class ConvNet(nn.Module):\n",
        "    def __init__(self, num_classes=10):\n",
        "        super(ConvNet, self).__init__()\n",
        "        self.layer1 = nn.Sequential(\n",
        "            nn.Conv2d(in_channels=1, out_channels=16, kernel_size=5, stride=1, padding=2),\n",
        "            nn.BatchNorm2d(16),\n",
        "            nn.ReLU(),\n",
        "            nn.MaxPool2d(kernel_size=2, stride=2))\n",
        "        self.layer2 = nn.Sequential(\n",
        "            nn.Conv2d(in_channels=16, out_channels=32, kernel_size=5, stride=1, padding=2),\n",
        "            nn.BatchNorm2d(32),\n",
        "            nn.ReLU(),\n",
        "            nn.MaxPool2d(kernel_size=2, stride=2))\n",
        "        self.fc = nn.Linear(7*7*32, num_classes)\n",
        "        \n",
        "    def forward(self, x):\n",
        "        out = self.layer1(x)\n",
        "        out = self.layer2(out)\n",
        "        out = out.reshape(out.size(0), -1)\n",
        "        out = self.fc(out)\n",
        "        return out"
      ],
      "execution_count": 0,
      "outputs": []
    },
    {
      "cell_type": "markdown",
      "metadata": {
        "id": "kQ6khUOJ-GNW",
        "colab_type": "text"
      },
      "source": [
        "## Instantiation Model"
      ]
    },
    {
      "cell_type": "code",
      "metadata": {
        "id": "9KPsuk5E-OMZ",
        "colab_type": "code",
        "colab": {}
      },
      "source": [
        "model = ConvNet(num_classes).to(device)"
      ],
      "execution_count": 0,
      "outputs": []
    },
    {
      "cell_type": "markdown",
      "metadata": {
        "id": "fPfK8F7d-Nk3",
        "colab_type": "text"
      },
      "source": [
        "## Create Loss Function"
      ]
    },
    {
      "cell_type": "code",
      "metadata": {
        "id": "ewY2jufs-Tie",
        "colab_type": "code",
        "colab": {}
      },
      "source": [
        "criterion = nn.CrossEntropyLoss()"
      ],
      "execution_count": 0,
      "outputs": []
    },
    {
      "cell_type": "markdown",
      "metadata": {
        "id": "rlFsx5I7-Utl",
        "colab_type": "text"
      },
      "source": [
        "## Create optimizer"
      ]
    },
    {
      "cell_type": "code",
      "metadata": {
        "id": "QuAFJG-B-XXg",
        "colab_type": "code",
        "colab": {}
      },
      "source": [
        "optimizer = torch.optim.Adam(model.parameters(), lr=learning_rate)"
      ],
      "execution_count": 0,
      "outputs": []
    },
    {
      "cell_type": "markdown",
      "metadata": {
        "id": "RvErSfQF-Z9E",
        "colab_type": "text"
      },
      "source": [
        "## Train The model"
      ]
    },
    {
      "cell_type": "code",
      "metadata": {
        "id": "ZMkDijhJ-cn5",
        "colab_type": "code",
        "colab": {
          "base_uri": "https://localhost:8080/",
          "height": 323
        },
        "outputId": "a284b354-8f3d-4291-de7e-3a3d27a46bcc"
      },
      "source": [
        "for epoch in range(num_epochs):\n",
        "    for i, (images, labels) in enumerate(train_loader):\n",
        "        images = images.to(device)\n",
        "        labels = labels.to(device)\n",
        "        \n",
        "        # Forward pass\n",
        "        outputs = model(images)\n",
        "        loss = criterion(outputs, labels)\n",
        "        \n",
        "        # Backward and optimize\n",
        "        optimizer.zero_grad()\n",
        "        loss.backward()\n",
        "        optimizer.step()\n",
        "        \n",
        "        if (i+1) % 100 == 0:\n",
        "            print ('Epoch [{}/{}], Step [{}/{}], Loss: {:.4f}' \n",
        "                   .format(epoch+1, num_epochs, i+1, len(train_loader), loss.item()))"
      ],
      "execution_count": 10,
      "outputs": [
        {
          "output_type": "stream",
          "text": [
            "Epoch [1/3], Step [100/600], Loss: 0.1190\n",
            "Epoch [1/3], Step [200/600], Loss: 0.1454\n",
            "Epoch [1/3], Step [300/600], Loss: 0.1272\n",
            "Epoch [1/3], Step [400/600], Loss: 0.0697\n",
            "Epoch [1/3], Step [500/600], Loss: 0.0295\n",
            "Epoch [1/3], Step [600/600], Loss: 0.0211\n",
            "Epoch [2/3], Step [100/600], Loss: 0.0328\n",
            "Epoch [2/3], Step [200/600], Loss: 0.0654\n",
            "Epoch [2/3], Step [300/600], Loss: 0.0407\n",
            "Epoch [2/3], Step [400/600], Loss: 0.0572\n",
            "Epoch [2/3], Step [500/600], Loss: 0.0106\n",
            "Epoch [2/3], Step [600/600], Loss: 0.0224\n",
            "Epoch [3/3], Step [100/600], Loss: 0.0488\n",
            "Epoch [3/3], Step [200/600], Loss: 0.0149\n",
            "Epoch [3/3], Step [300/600], Loss: 0.0355\n",
            "Epoch [3/3], Step [400/600], Loss: 0.0076\n",
            "Epoch [3/3], Step [500/600], Loss: 0.0263\n",
            "Epoch [3/3], Step [600/600], Loss: 0.0154\n"
          ],
          "name": "stdout"
        }
      ]
    },
    {
      "cell_type": "markdown",
      "metadata": {
        "id": "HTSWvYHu-p2I",
        "colab_type": "text"
      },
      "source": [
        "## Test the model"
      ]
    },
    {
      "cell_type": "code",
      "metadata": {
        "id": "oWmCCoNR-sdt",
        "colab_type": "code",
        "colab": {
          "base_uri": "https://localhost:8080/",
          "height": 34
        },
        "outputId": "c0322ca9-54a6-4da1-c959-5dab280fa2d6"
      },
      "source": [
        "model.eval()  # eval mode (batchnorm uses moving mean/variance instead of mini-batch mean/variance)\n",
        "with torch.no_grad():\n",
        "    correct = 0\n",
        "    total = 0\n",
        "    for images, labels in test_loader:\n",
        "        images = images.to(device)\n",
        "        labels = labels.to(device)\n",
        "        outputs = model(images)\n",
        "        _, predicted = torch.max(outputs.data, 1)\n",
        "        total += labels.size(0)\n",
        "        correct += (predicted == labels).sum().item()\n",
        "\n",
        "    print('Test Accuracy of the model on the 10000 test images: {} %'.format(100 * correct / total))"
      ],
      "execution_count": 14,
      "outputs": [
        {
          "output_type": "stream",
          "text": [
            "Test Accuracy of the model on the 10000 test images: 98.83 %\n"
          ],
          "name": "stdout"
        }
      ]
    },
    {
      "cell_type": "markdown",
      "metadata": {
        "id": "5ZSRTAR0-tIX",
        "colab_type": "text"
      },
      "source": [
        "## Save the model checkpoint\n",
        "\n"
      ]
    },
    {
      "cell_type": "code",
      "metadata": {
        "id": "6h6s3eLQIVck",
        "colab_type": "code",
        "colab": {}
      },
      "source": [
        "torch.save(model.state_dict(), 'model.ckpt')"
      ],
      "execution_count": 0,
      "outputs": []
    },
    {
      "cell_type": "markdown",
      "metadata": {
        "id": "DB8O2H7c-4XZ",
        "colab_type": "text"
      },
      "source": [
        "over!"
      ]
    }
  ]
}